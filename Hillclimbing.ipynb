{
  "cells": [
    {
      "cell_type": "markdown",
      "metadata": {
        "id": "view-in-github",
        "colab_type": "text"
      },
      "source": [
        "<a href=\"https://colab.research.google.com/github/suhasms369/AI_Lab_1BM23CS346/blob/main/Hillclimbing.ipynb\" target=\"_parent\"><img src=\"https://colab.research.google.com/assets/colab-badge.svg\" alt=\"Open In Colab\"/></a>"
      ]
    },
    {
      "cell_type": "code",
      "source": [
        "def calculate_conflicts(board):\n",
        "    conflicts = 0\n",
        "    n = len(board)\n",
        "    for i in range(n):\n",
        "        for j in range(i + 1, n):\n",
        "            if board[i] == board[j] or abs(board[i] - board[j]) == j - i:\n",
        "                conflicts += 1\n",
        "    return conflicts\n",
        "\n",
        "def print_board(board):\n",
        "    n = len(board)\n",
        "    for row in range(n):\n",
        "        line = ['Q' if col == board[row] else '.' for col in range(n)]\n",
        "        print(' '.join(line))\n",
        "    print()\n",
        "\n",
        "def hill_climbing_step_by_step(board):\n",
        "    n = len(board)\n",
        "    current_state = board[:]\n",
        "    current_conflicts = calculate_conflicts(current_state)\n",
        "\n",
        "    step = 0\n",
        "    print(f\"Initial board with conflicts = {current_conflicts}:\")\n",
        "    print_board(current_state)\n",
        "\n",
        "    while current_conflicts > 0:\n",
        "        step += 1\n",
        "        print(f\"Step {step}:\")\n",
        "        best_state = current_state[:]\n",
        "        best_conflicts = current_conflicts\n",
        "\n",
        "        for row in range(n):\n",
        "            original_col = current_state[row]\n",
        "            for col in range(n):\n",
        "                if col != original_col:\n",
        "                    current_state[row] = col\n",
        "                    conflicts = calculate_conflicts(current_state)\n",
        "\n",
        "                    if conflicts < best_conflicts:\n",
        "                        best_conflicts = conflicts\n",
        "                        best_state = current_state[:]\n",
        "\n",
        "            current_state[row] = original_col\n",
        "\n",
        "        if best_conflicts == current_conflicts:\n",
        "            print(\"No better neighbor found, stuck at local optimum.\")\n",
        "            break\n",
        "\n",
        "        current_state = best_state\n",
        "        current_conflicts = best_conflicts\n",
        "\n",
        "        print(f\"Board with conflicts = {current_conflicts}:\")\n",
        "        print_board(current_state)\n",
        "\n",
        "    if current_conflicts == 0:\n",
        "        print(\"Solution found!\")\n",
        "    else:\n",
        "        print(\"No solution found.\")\n",
        "    return current_state\n",
        "\n",
        "initial_board = [3, 0, 1, 2]\n",
        "solution = hill_climbing_step_by_step(initial_board)\n",
        "\n",
        "print(\"By:\\n   Suhas MS\\n   1BM23CS346\")\n"
      ],
      "metadata": {
        "colab": {
          "base_uri": "https://localhost:8080/"
        },
        "id": "-gQGRWdz81XJ",
        "outputId": "90925034-9686-4065-d27e-068395754f99"
      },
      "execution_count": 4,
      "outputs": [
        {
          "output_type": "stream",
          "name": "stdout",
          "text": [
            "Initial board with conflicts = 4:\n",
            ". . . Q\n",
            "Q . . .\n",
            ". Q . .\n",
            ". . Q .\n",
            "\n",
            "Step 1:\n",
            "Board with conflicts = 2:\n",
            ". . . Q\n",
            "Q . . .\n",
            "Q . . .\n",
            ". . Q .\n",
            "\n",
            "Step 2:\n",
            "Board with conflicts = 1:\n",
            ". . . Q\n",
            ". Q . .\n",
            "Q . . .\n",
            ". . Q .\n",
            "\n",
            "Step 3:\n",
            "No better neighbor found, stuck at local optimum.\n",
            "No solution found.\n",
            "By:\n",
            "   Suhas MS\n",
            "   1BM23CS346\n"
          ]
        }
      ]
    }
  ],
  "metadata": {
    "colab": {
      "provenance": [],
      "authorship_tag": "ABX9TyMg3IQDSKb1SNYb+At3bU6J",
      "include_colab_link": true
    },
    "kernelspec": {
      "display_name": "Python 3",
      "name": "python3"
    },
    "language_info": {
      "name": "python"
    }
  },
  "nbformat": 4,
  "nbformat_minor": 0
}