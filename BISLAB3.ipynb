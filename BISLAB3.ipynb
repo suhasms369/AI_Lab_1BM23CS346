{
  "nbformat": 4,
  "nbformat_minor": 0,
  "metadata": {
    "colab": {
      "provenance": [],
      "authorship_tag": "ABX9TyPXQkHCnK4TGDYb+l7HS2bO",
      "include_colab_link": true
    },
    "kernelspec": {
      "name": "python3",
      "display_name": "Python 3"
    },
    "language_info": {
      "name": "python"
    }
  },
  "cells": [
    {
      "cell_type": "markdown",
      "metadata": {
        "id": "view-in-github",
        "colab_type": "text"
      },
      "source": [
        "<a href=\"https://colab.research.google.com/github/suhasms369/AI_Lab_1BM23CS346/blob/main/BISLAB3.ipynb\" target=\"_parent\"><img src=\"https://colab.research.google.com/assets/colab-badge.svg\" alt=\"Open In Colab\"/></a>"
      ]
    },
    {
      "cell_type": "code",
      "execution_count": 2,
      "metadata": {
        "id": "FVs549ww5PbV",
        "colab": {
          "base_uri": "https://localhost:8080/"
        },
        "outputId": "0e32e340-b4de-46fc-b6b1-2dc6e995d520"
      },
      "outputs": [
        {
          "output_type": "stream",
          "name": "stdout",
          "text": [
            "Iteration: 0 Best Position: [-0.8423345739903807, -0.7234460557259892] Score: 1.232901730085047\n",
            "Iteration: 10 Best Position: [-0.037356348187584765, 0.0046440554740687645] Score: 0.0014170640011582957\n",
            "Iteration: 20 Best Position: [-0.0022600502692036104, -0.007138824933335133] Score: 5.607064864813468e-05\n",
            "Iteration: 30 Best Position: [-0.0002413881265805086, -0.00017426806487776982] Score: 8.863758609029023e-08\n",
            "Iteration: 40 Best Position: [-8.905782890003311e-07, 3.846758776518568e-05] Score: 1.4805484381611017e-09\n",
            "Final Best Solution: [8.758327179824127e-06, 2.5543422505196894e-07]\n"
          ]
        }
      ],
      "source": [
        "import random\n",
        "\n",
        "def objective(x, y):\n",
        "    return x**2 + y**2\n",
        "\n",
        "num_particles = 10\n",
        "num_iterations = 50\n",
        "inertia = 0.5\n",
        "personal_weight = 1.5\n",
        "social_weight = 1.5\n",
        "\n",
        "particle_positions = [[random.uniform(-10, 10), random.uniform(-10, 10)] for _ in range(num_particles)]\n",
        "particle_velocities = [[random.uniform(-1, 1), random.uniform(-1, 1)] for _ in range(num_particles)]\n",
        "personal_best_positions = [list(pos) for pos in particle_positions]\n",
        "personal_best_scores = [objective(pos[0], pos[1]) for pos in particle_positions]\n",
        "\n",
        "best_score = min(personal_best_scores)\n",
        "best_index = personal_best_scores.index(best_score)\n",
        "global_best_position = list(personal_best_positions[best_index])\n",
        "\n",
        "for iteration in range(num_iterations):\n",
        "    for i in range(num_particles):\n",
        "        for dim in range(2):\n",
        "            r1 = random.random()\n",
        "            r2 = random.random()\n",
        "            personal_component = personal_weight * r1 * (personal_best_positions[i][dim] - particle_positions[i][dim])\n",
        "            social_component = social_weight * r2 * (global_best_position[dim] - particle_positions[i][dim])\n",
        "            particle_velocities[i][dim] = inertia * particle_velocities[i][dim] + personal_component + social_component\n",
        "\n",
        "        particle_positions[i][0] += particle_velocities[i][0]\n",
        "        particle_positions[i][1] += particle_velocities[i][1]\n",
        "\n",
        "        score = objective(particle_positions[i][0], particle_positions[i][1])\n",
        "\n",
        "        if score < personal_best_scores[i]:\n",
        "            personal_best_positions[i] = list(particle_positions[i])\n",
        "            personal_best_scores[i] = score\n",
        "            if score < objective(global_best_position[0], global_best_position[1]):\n",
        "                global_best_position = list(particle_positions[i])\n",
        "\n",
        "    if iteration % 10 == 0:\n",
        "        print(\"Iteration:\", iteration, \"Best Position:\", global_best_position, \"Score:\", objective(global_best_position[0], global_best_position[1]))\n",
        "\n",
        "print(\"Final Best Solution:\", global_best_position)"
      ]
    }
  ]
}