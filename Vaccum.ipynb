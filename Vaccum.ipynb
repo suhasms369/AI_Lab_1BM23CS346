{
  "nbformat": 4,
  "nbformat_minor": 0,
  "metadata": {
    "colab": {
      "provenance": [],
      "authorship_tag": "ABX9TyOAIjQShCOpcnH+z46KP/L+",
      "include_colab_link": true
    },
    "kernelspec": {
      "name": "python3",
      "display_name": "Python 3"
    },
    "language_info": {
      "name": "python"
    }
  },
  "cells": [
    {
      "cell_type": "markdown",
      "metadata": {
        "id": "view-in-github",
        "colab_type": "text"
      },
      "source": [
        "<a href=\"https://colab.research.google.com/github/suhasms369/AI_Lab_1BM23CS346/blob/main/Vaccum.ipynb\" target=\"_parent\"><img src=\"https://colab.research.google.com/assets/colab-badge.svg\" alt=\"Open In Colab\"/></a>"
      ]
    },
    {
      "cell_type": "code",
      "execution_count": 3,
      "metadata": {
        "colab": {
          "base_uri": "https://localhost:8080/"
        },
        "id": "WCFgJn3BdQlZ",
        "outputId": "af050846-6676-4ccd-ae0c-3b206f7bd1de"
      },
      "outputs": [
        {
          "output_type": "stream",
          "name": "stdout",
          "text": [
            "Enter status of room A (C for clean, D for dirty): d\n",
            "Enter status of room B (C for clean, D for dirty): d\n",
            "Which room to move to? (A or B): a\n",
            "Room A is dirty. Cleaning now.\n",
            "Which room to move to? (A or B): a\n",
            "Room A is clean. Continuing...\n",
            "Which room to move to? (A or B): b\n",
            "Room B is dirty. Cleaning now.\n",
            "All rooms are clean. Exiting.\n",
            "Total cost of moves: 3\n",
            "End\n",
            "By Suhas M S\n",
            "   1BM23CS346\n"
          ]
        }
      ],
      "source": [
        "def vacuum_simulator():\n",
        "    rooms = {}\n",
        "    for room in ['A', 'B']:\n",
        "        while True:\n",
        "            status = input(f\"Enter status of room {room} (C for clean, D for dirty): \").strip().upper()\n",
        "            if status in ['C', 'D']:\n",
        "                rooms[room] = status\n",
        "                break\n",
        "            else:\n",
        "                print(\"Invalid input. Please enter 'C' or 'D'.\")\n",
        "\n",
        "    total_cost = 0\n",
        "\n",
        "    while True:\n",
        "        if all(status == 'C' for status in rooms.values()):\n",
        "            print(\"All rooms are clean. Exiting.\")\n",
        "            break\n",
        "\n",
        "        move = input(\"Which room to move to? (A or B): \").strip().upper()\n",
        "        if move not in rooms:\n",
        "            print(\"Invalid room. Please enter 'A' or 'B'.\")\n",
        "            continue\n",
        "\n",
        "        total_cost += 1\n",
        "\n",
        "        if rooms[move] == 'C':\n",
        "            print(f\"Room {move} is clean. Continuing...\")\n",
        "        else:\n",
        "            print(f\"Room {move} is dirty. Cleaning now.\")\n",
        "            rooms[move] = 'C'\n",
        "\n",
        "    print(f\"Total cost of moves: {total_cost}\")\n",
        "\n",
        "vacuum_simulator()\n",
        "\n",
        "\n",
        "print(\"End\\nBy Suhas M S\\n   1BM23CS346\")\n"
      ]
    }
  ]
}