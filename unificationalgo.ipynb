{
  "nbformat": 4,
  "nbformat_minor": 0,
  "metadata": {
    "colab": {
      "provenance": [],
      "authorship_tag": "ABX9TyPLYLWsnHb+Xl0QjfojRtQT",
      "include_colab_link": true
    },
    "kernelspec": {
      "name": "python3",
      "display_name": "Python 3"
    },
    "language_info": {
      "name": "python"
    }
  },
  "cells": [
    {
      "cell_type": "markdown",
      "metadata": {
        "id": "view-in-github",
        "colab_type": "text"
      },
      "source": [
        "<a href=\"https://colab.research.google.com/github/suhasms369/AI_Lab_1BM23CS346/blob/main/unificationalgo.ipynb\" target=\"_parent\"><img src=\"https://colab.research.google.com/assets/colab-badge.svg\" alt=\"Open In Colab\"/></a>"
      ]
    },
    {
      "cell_type": "code",
      "execution_count": 3,
      "metadata": {
        "colab": {
          "base_uri": "https://localhost:8080/"
        },
        "id": "pnSWr5tY-ODL",
        "outputId": "1b60525a-95a5-4a00-8c16-75f3ec034ee0"
      },
      "outputs": [
        {
          "output_type": "stream",
          "name": "stdout",
          "text": [
            "MGU:\n",
            "Z / b\n",
            "X / ('f', 'Y')\n",
            "Y / ('g', 'Z')\n",
            "By:\n",
            "   Suhas MS\n",
            "   1BM23CS346\n"
          ]
        }
      ],
      "source": [
        "def is_variable(x):\n",
        "    # Variables are single uppercase letters only, like 'X', 'Y', 'Z'\n",
        "    return isinstance(x, str) and len(x) == 1 and x.isupper()\n",
        "\n",
        "def is_compound(x):\n",
        "    return isinstance(x, tuple) and len(x) > 0\n",
        "\n",
        "def occurs_check(var, term, subst):\n",
        "    if var == term:\n",
        "        return True\n",
        "    elif is_variable(term) and term in subst:\n",
        "        return occurs_check(var, subst[term], subst)\n",
        "    elif is_compound(term):\n",
        "        return any(occurs_check(var, t, subst) for t in term[1:])\n",
        "    return False\n",
        "\n",
        "def unify(x, y, subst=None):\n",
        "    if subst is None:\n",
        "        subst = {}\n",
        "    if x == y:\n",
        "        return subst\n",
        "    if is_variable(x):\n",
        "        return unify_var(x, y, subst)\n",
        "    elif is_variable(y):\n",
        "        return unify_var(y, x, subst)\n",
        "    elif is_compound(x) and is_compound(y):\n",
        "        if x[0] != y[0] or len(x) != len(y):\n",
        "            return None\n",
        "        for x_arg, y_arg in zip(x[1:], y[1:]):\n",
        "            subst = unify(x_arg, y_arg, subst)\n",
        "            if subst is None:\n",
        "                return None\n",
        "        return subst\n",
        "    else:\n",
        "        return None\n",
        "\n",
        "def unify_var(var, x, subst):\n",
        "    if var in subst:\n",
        "        return unify(subst[var], x, subst)\n",
        "    elif is_variable(x) and x in subst:\n",
        "        return unify(var, subst[x], subst)\n",
        "    elif occurs_check(var, x, subst):\n",
        "        return None\n",
        "    else:\n",
        "        subst[var] = x\n",
        "        return subst\n",
        "\n",
        "def print_substitution(subst):\n",
        "    if subst is None:\n",
        "        print(\"No unifier exists\")\n",
        "    else:\n",
        "        print(\"MGU:\")\n",
        "        for var, val in subst.items():\n",
        "            print(f\"{var} / {val}\")\n",
        "\n",
        "# Terms:\n",
        "expr1 = ('p', 'b', 'X', ('f', ('g', 'Z')))\n",
        "expr2 = ('p', 'Z', ('f', 'Y'), ('f', 'Y'))\n",
        "\n",
        "result = unify(expr1, expr2)\n",
        "print_substitution(result)\n",
        "\n",
        "print(\"By:\\n   Suhas MS\\n   1BM23CS346\")"
      ]
    }
  ]
}