{
  "nbformat": 4,
  "nbformat_minor": 0,
  "metadata": {
    "colab": {
      "provenance": [],
      "authorship_tag": "ABX9TyMi7lyACiheIfEydI3ouNDj",
      "include_colab_link": true
    },
    "kernelspec": {
      "name": "python3",
      "display_name": "Python 3"
    },
    "language_info": {
      "name": "python"
    }
  },
  "cells": [
    {
      "cell_type": "markdown",
      "metadata": {
        "id": "view-in-github",
        "colab_type": "text"
      },
      "source": [
        "<a href=\"https://colab.research.google.com/github/suhasms369/AI_Lab_1BM23CS346/blob/main/Firstorderlogic.ipynb\" target=\"_parent\"><img src=\"https://colab.research.google.com/assets/colab-badge.svg\" alt=\"Open In Colab\"/></a>"
      ]
    },
    {
      "cell_type": "code",
      "execution_count": 8,
      "metadata": {
        "colab": {
          "base_uri": "https://localhost:8080/"
        },
        "id": "pnSWr5tY-ODL",
        "outputId": "aae62c5a-5b85-4a64-e5cc-03dae98beb88"
      },
      "outputs": [
        {
          "output_type": "stream",
          "name": "stdout",
          "text": [
            "Inferred: Hostile(CountryA)\n",
            "Inferred: Weapon(M1)\n",
            "Inferred: Criminal(Robert)\n",
            "Goal reached!\n",
            "Robert is criminal: Proven\n",
            "By:\n",
            "   Suhas MS\n",
            "   1BM23CS346\n"
          ]
        }
      ],
      "source": [
        "facts = {\n",
        "    \"American(Robert)\",\n",
        "    \"Enemy(CountryA, America)\",\n",
        "    \"Missile(M1)\",\n",
        "    \"Has(CountryA, M1)\",\n",
        "    \"Sold(Robert, CountryA, M1)\"\n",
        "}\n",
        "\n",
        "rules = [\n",
        "    (\"Enemy(X, America)\", \"Hostile(X)\"),\n",
        "    (\"American(Robert) & Sold(Robert, Y, Z) & Hostile(Y) & Weapon(Z)\", \"Criminal(Robert)\"),\n",
        "    (\"Missile(Z)\", \"Weapon(Z)\")\n",
        "]\n",
        "\n",
        "import re\n",
        "\n",
        "def forward_chaining(facts, rules, goal):\n",
        "    new_facts = set(facts)\n",
        "    while True:\n",
        "        added = False\n",
        "        for premise, conclusion in rules:\n",
        "            premises = [p.strip() for p in premise.split('&')]\n",
        "            substitutions = [{}]\n",
        "            for p in premises:\n",
        "                new_substitutions = []\n",
        "                for sub in substitutions:\n",
        "                    p_inst = substitute(p, sub)\n",
        "                    matches = match_fact(p_inst, new_facts)\n",
        "                    for m in matches:\n",
        "                        merged = merge_substitutions(sub, m)\n",
        "                        if merged is not None:\n",
        "                            new_substitutions.append(merged)\n",
        "                substitutions = new_substitutions\n",
        "            for sub in substitutions:\n",
        "                conclusion_inst = substitute(conclusion, sub)\n",
        "                if conclusion_inst not in new_facts:\n",
        "                    new_facts.add(conclusion_inst)\n",
        "                    print(f\"Inferred: {conclusion_inst}\")\n",
        "                    added = True\n",
        "                    if conclusion_inst == goal:\n",
        "                        print(\"Goal reached!\")\n",
        "                        return True\n",
        "        if not added:\n",
        "            break\n",
        "    return goal in new_facts\n",
        "\n",
        "def substitute(expr, sub):\n",
        "    for var, val in sub.items():\n",
        "        expr = re.sub(r'\\b' + re.escape(var) + r'\\b', val, expr)\n",
        "    return expr\n",
        "\n",
        "def match_fact(premise, facts):\n",
        "    pattern = re.compile(r\"(\\w+)\\(([^()]+)\\)\")\n",
        "    m = pattern.match(premise)\n",
        "    if not m:\n",
        "        return []\n",
        "    pred = m.group(1)\n",
        "    args = [a.strip() for a in m.group(2).split(\",\")]\n",
        "    matches = []\n",
        "    for f in facts:\n",
        "        fm = pattern.match(f)\n",
        "        if not fm:\n",
        "            continue\n",
        "        fpred = fm.group(1)\n",
        "        fargs = [a.strip() for a in fm.group(2).split(\",\")]\n",
        "        if fpred != pred or len(fargs) != len(args):\n",
        "            continue\n",
        "        sub = {}\n",
        "        failed = False\n",
        "        for a, fa in zip(args, fargs):\n",
        "            if is_variable(a):\n",
        "                if a in sub and sub[a] != fa:\n",
        "                    failed = True\n",
        "                    break\n",
        "                sub[a] = fa\n",
        "            else:\n",
        "                if a != fa:\n",
        "                    failed = True\n",
        "                    break\n",
        "        if not failed:\n",
        "            matches.append(sub)\n",
        "    return matches\n",
        "\n",
        "def merge_substitutions(s1, s2):\n",
        "    s = s1.copy()\n",
        "    for k, v in s2.items():\n",
        "        if k in s and s[k] != v:\n",
        "            return None\n",
        "        s[k] = v\n",
        "    return s\n",
        "\n",
        "def is_variable(x):\n",
        "    return bool(re.match(r'^[A-Z][A-Za-z0-9_]*$', x))\n",
        "\n",
        "goal = \"Criminal(Robert)\"\n",
        "\n",
        "if forward_chaining(facts, rules, goal):\n",
        "    print(\"Robert is criminal: Proven\")\n",
        "else:\n",
        "    print(\"Could not prove Robert is criminal\")\n",
        "\n",
        "print(\"By:\\n   Suhas MS\\n   1BM23CS346\")\n"
      ]
    }
  ]
}